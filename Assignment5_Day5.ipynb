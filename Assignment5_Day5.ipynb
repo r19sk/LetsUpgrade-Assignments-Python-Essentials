{
  "nbformat": 4,
  "nbformat_minor": 0,
  "metadata": {
    "colab": {
      "name": "Assignment5_Day5.ipynb",
      "provenance": []
    },
    "kernelspec": {
      "name": "python3",
      "display_name": "Python 3"
    }
  },
  "cells": [
    {
      "cell_type": "code",
      "metadata": {
        "id": "Eq0oJcD6VplF",
        "colab_type": "code",
        "colab": {
          "base_uri": "https://localhost:8080/",
          "height": 34
        },
        "outputId": "b418b3d2-4358-435d-ff13-bf816efa6eb2"
      },
      "source": [
        "#sort the list in ascending order and print zeros on right\n",
        "\n",
        "list= [0,1,2,10,4,1,0,56,2,0,1,3,0,56,0,4]\n",
        "list.sort ()\n",
        "\n",
        "\n",
        "def func(x):\n",
        "  return x==0\n",
        "list.sort(key=func, reverse=False)\n",
        "print (list)\n",
        "\n"
      ],
      "execution_count": 6,
      "outputs": [
        {
          "output_type": "stream",
          "text": [
            "[1, 1, 1, 2, 2, 3, 4, 4, 10, 56, 56, 0, 0, 0, 0, 0]\n"
          ],
          "name": "stdout"
        }
      ]
    },
    {
      "cell_type": "code",
      "metadata": {
        "id": "RAAIakJLZLJz",
        "colab_type": "code",
        "colab": {
          "base_uri": "https://localhost:8080/",
          "height": 34
        },
        "outputId": "e0faec4e-fd5a-442c-c3be-ea8f7928defc"
      },
      "source": [
        "#Merge the 2 sorted lists using 1 loop at a time.\n",
        "\n",
        "list1= [10,20,40,60,70,80]\n",
        "list2= [5,15,25,35,45,60]\n",
        "for x in list2:\n",
        "   list1.append(x)\n",
        "list1.sort()\n",
        "print (list1)"
      ],
      "execution_count": 12,
      "outputs": [
        {
          "output_type": "stream",
          "text": [
            "[5, 10, 15, 20, 25, 35, 40, 45, 60, 60, 70, 80]\n"
          ],
          "name": "stdout"
        }
      ]
    }
  ]
}