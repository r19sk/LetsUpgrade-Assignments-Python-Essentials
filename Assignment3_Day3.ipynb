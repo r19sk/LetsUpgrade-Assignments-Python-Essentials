{
  "nbformat": 4,
  "nbformat_minor": 0,
  "metadata": {
    "colab": {
      "name": "Assignment3_Day3.ipynb",
      "provenance": []
    },
    "kernelspec": {
      "name": "python3",
      "display_name": "Python 3"
    }
  },
  "cells": [
    {
      "cell_type": "code",
      "metadata": {
        "id": "DFnsKkdmFgN3",
        "colab_type": "code",
        "colab": {
          "base_uri": "https://localhost:8080/",
          "height": 85
        },
        "outputId": "51765ed0-d12f-41c6-ad80-0761cdeb22e8"
      },
      "source": [
        "#Sum of n numbers with help of while loop\n",
        "\n",
        "sum=0\n",
        "flag=1\n",
        "while flag==1:\n",
        "  num=int(input(\"Enter number \"))\n",
        "  sum=sum+num\n",
        "  if num==0:\n",
        "    flag=0\n",
        "print(\"The sum of entered numbers is \",sum)"
      ],
      "execution_count": 2,
      "outputs": [
        {
          "output_type": "stream",
          "text": [
            "Enter number 7\n",
            "Enter number 8\n",
            "Enter number 0\n",
            "The sum of entered numbers is  15\n"
          ],
          "name": "stdout"
        }
      ]
    },
    {
      "cell_type": "code",
      "metadata": {
        "id": "sfuTnLogGet2",
        "colab_type": "code",
        "colab": {
          "base_uri": "https://localhost:8080/",
          "height": 51
        },
        "outputId": "e27ea10f-26e2-4539-daf9-e7befbe0b93e"
      },
      "source": [
        "#Check whether the number is prime or not\n",
        "\n",
        "num=int(input(\"Enter a number \"))\n",
        "if num >1:\n",
        "  for i in range(2,num):\n",
        "    if (num % i)==0:\n",
        "      print(num,\"is not a prime number\")\n",
        "      break\n",
        "  else:\n",
        "      print(num,\"is a prime number\")\n",
        "      \n",
        "else:\n",
        "  print(num,\"is not a prime number\")"
      ],
      "execution_count": 9,
      "outputs": [
        {
          "output_type": "stream",
          "text": [
            "Enter a number 3\n",
            "3 is a prime number\n"
          ],
          "name": "stdout"
        }
      ]
    }
  ]
}