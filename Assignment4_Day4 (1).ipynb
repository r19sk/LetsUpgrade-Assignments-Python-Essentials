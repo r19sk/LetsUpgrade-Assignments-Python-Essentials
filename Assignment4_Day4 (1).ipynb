{
  "nbformat": 4,
  "nbformat_minor": 0,
  "metadata": {
    "colab": {
      "name": "Assignment4_Day4.ipynb",
      "provenance": []
    },
    "kernelspec": {
      "name": "python3",
      "display_name": "Python 3"
    }
  },
  "cells": [
    {
      "cell_type": "code",
      "metadata": {
        "id": "XT0cdON_Vh_L",
        "colab_type": "code",
        "colab": {
          "base_uri": "https://localhost:8080/",
          "height": 34
        },
        "outputId": "a25519a8-ac70-41b6-9a3d-be597db70135"
      },
      "source": [
        "#Find all occurrences of substring in the given string.\n",
        "sen=\"what we think we become, we are python programmers\"\n",
        "sub=\"we\"\n",
        "res=[i for i in range(len(sen))\n",
        "        if sen.startswith(sub, i)]\n",
        "print (\"The starting indices of substring 'we' are \",str(res))\n",
        "     "
      ],
      "execution_count": 8,
      "outputs": [
        {
          "output_type": "stream",
          "text": [
            "The starting indices of substring 'we' are  [5, 14, 25]\n"
          ],
          "name": "stdout"
        }
      ]
    },
    {
      "cell_type": "code",
      "metadata": {
        "id": "CdmYr2VfVDJX",
        "colab_type": "code",
        "colab": {}
      },
      "source": [
        "#islower method for string class checks if the given string is in lower case. If it is in upper case it gives False output.\n",
        "str=\"hey i am a programmer\"\n",
        "str.islower()"
      ],
      "execution_count": null,
      "outputs": []
    },
    {
      "cell_type": "code",
      "metadata": {
        "id": "vLNcXT-edj5U",
        "colab_type": "code",
        "colab": {
          "base_uri": "https://localhost:8080/",
          "height": 34
        },
        "outputId": "9ef764cd-a2b5-4211-98c5-ae006691325e"
      },
      "source": [
        "str2=\"Hey I am a programmer\"\n",
        "str2.islower()"
      ],
      "execution_count": null,
      "outputs": [
        {
          "output_type": "execute_result",
          "data": {
            "text/plain": [
              "False"
            ]
          },
          "metadata": {
            "tags": []
          },
          "execution_count": 11
        }
      ]
    },
    {
      "cell_type": "code",
      "metadata": {
        "id": "MtAsfwgLe1VT",
        "colab_type": "code",
        "colab": {
          "base_uri": "https://localhost:8080/",
          "height": 34
        },
        "outputId": "567c0426-6648-4c49-b74d-1a3e71892188"
      },
      "source": [
        "# ispper checks whether string is in uppercase or not.\n",
        "str3=\"HOW ARE YOU\"\n",
        "str3.isupper()"
      ],
      "execution_count": null,
      "outputs": [
        {
          "output_type": "execute_result",
          "data": {
            "text/plain": [
              "True"
            ]
          },
          "metadata": {
            "tags": []
          },
          "execution_count": 13
        }
      ]
    }
  ]
}